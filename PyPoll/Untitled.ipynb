{
 "cells": [
  {
   "cell_type": "code",
   "execution_count": 1,
   "id": "abebe01e",
   "metadata": {},
   "outputs": [],
   "source": [
    "import os\n",
    "import csv"
   ]
  },
  {
   "cell_type": "code",
   "execution_count": 2,
   "id": "768a824a",
   "metadata": {},
   "outputs": [],
   "source": [
    "poll_data=os.path.join('Resources','election_data.csv')"
   ]
  },
  {
   "cell_type": "code",
   "execution_count": 3,
   "id": "e006a6b3",
   "metadata": {},
   "outputs": [
    {
     "name": "stdout",
     "output_type": "stream",
     "text": [
      "['Voter ID', 'County', 'Candidate']\n",
      "3521001\n"
     ]
    }
   ],
   "source": [
    "with open(poll_data, 'r') as csvfile:\n",
    "    poll_csv = csv.reader(csvfile,delimiter=',')\n",
    "    \n",
    "    NoOfRows=[]\n",
    "    \n",
    "    for row in poll_csv:\n",
    "            \n",
    "        NoOfRows.append(row)\n",
    "    header=NoOfRows.pop(0)"
   ]
  },
  {
   "cell_type": "code",
   "execution_count": 37,
   "id": "93d910cb",
   "metadata": {},
   "outputs": [],
   "source": []
  },
  {
   "cell_type": "code",
   "execution_count": 35,
   "id": "38d81cd2",
   "metadata": {},
   "outputs": [
    {
     "name": "stdout",
     "output_type": "stream",
     "text": [
      "2218231;704200;492940;105630\n"
     ]
    }
   ],
   "source": [
    "Candidate_Dict = {}\n",
    "Candidate_List=[]\n",
    "Candidate_Votes={}\n",
    "for row in NoOfRows:\n",
    "    if row[2] not in Candidate_List:\n",
    "        Candidate_List.append(row[2])\n",
    "\n",
    "\n",
    "        \n",
    "Votes0 = 0\n",
    "Votes1 = 0\n",
    "Votes2 = 0\n",
    "Votes3 = 0\n",
    "        \n",
    "for row in NoOfRows:\n",
    "    if row[2] == Candidate_List[0]:\n",
    "        Votes0 +=1\n",
    "    if row[2] == Candidate_List[1]:\n",
    "        Votes1 +=1\n",
    "    if row[2] == Candidate_List[2]:\n",
    "        Votes2 +=1\n",
    "    if row[2] == Candidate_List[3]:\n",
    "        Votes3 +=1\n",
    "    #calculate vote percentage for each candidate\n",
    "    #candidate_list[0]=(float(votes0)/float(len(NoOfRows))*100   "
   ]
  },
  {
   "cell_type": "code",
   "execution_count": 52,
   "id": "cc5e81d7",
   "metadata": {},
   "outputs": [
    {
     "name": "stdout",
     "output_type": "stream",
     "text": [
      "63.0 20.0 14.0 3.0\n"
     ]
    }
   ],
   "source": [
    "Per1 = (float(Votes0)/float(len(NoOfRows)))*100\n",
    "Per2 = (float(Votes1)/float(len(NoOfRows)))*100\n",
    "Per3 = (float(Votes2)/float(len(NoOfRows)))*100\n",
    "Per4 = (float(Votes3)/float(len(NoOfRows)))*100"
   ]
  },
  {
   "cell_type": "markdown",
   "id": "69139675",
   "metadata": {},
   "source": [
    "Candidate_List[0]> key\n",
    "Votes0 will be the value for Candidate_List[0]"
   ]
  },
  {
   "cell_type": "code",
   "execution_count": 55,
   "id": "641038e1",
   "metadata": {},
   "outputs": [
    {
     "name": "stdout",
     "output_type": "stream",
     "text": [
      "Khan\n"
     ]
    }
   ],
   "source": [
    "winner = max(Votes0,Votes1,Votes2,Votes3)\n",
    "\n",
    "if winner == Votes0:\n",
    "    winner = Candidate_List[0]\n",
    "elif winner == Votes1:\n",
    "    winner=Candidate_List[1]\n",
    "elif winner == Votes2:\n",
    "    winner=Candidate_List[2]\n",
    "elif winner == Votes3:\n",
    "    winner=Candidate_List[3]"
   ]
  },
  {
   "cell_type": "code",
   "execution_count": 75,
   "id": "c4a526b2",
   "metadata": {},
   "outputs": [
    {
     "name": "stdout",
     "output_type": "stream",
     "text": [
      "Election Results\n",
      "-----------------------------\n",
      "Total Votes: 3521001\n",
      "-----------------------------\n",
      "Khan: 63.0% (2218231)\n",
      "Correy: 20.0% (704200)\n",
      "Li: 14.0% (492940)\n",
      "O'Tooley: 63.0% (105630)\n",
      "-----------------------------\n",
      "Winner: Khan\n"
     ]
    }
   ],
   "source": [
    "print(\"Election Results\")\n",
    "print(\"-----------------------------\")\n",
    "print(\"Total Votes: \"+ str(len(NoOfRows)))\n",
    "print(\"-----------------------------\")\n",
    "print(f\"{Candidate_List[0]}: {round(Per1,3)}% ({Votes0})\")\n",
    "print(f\"{Candidate_List[1]}: {round(Per2,3)}% ({Votes1})\")\n",
    "print(f\"{Candidate_List[2]}: {round(Per3,3)}% ({Votes2})\")\n",
    "print(f\"{Candidate_List[3]}: {round(Per1,3)}% ({Votes3})\")\n",
    "print(\"-----------------------------\")\n",
    "print(f\"Winner: {winner}\")"
   ]
  },
  {
   "cell_type": "code",
   "execution_count": 76,
   "id": "f448cd98",
   "metadata": {},
   "outputs": [],
   "source": [
    "lines = [(\"Election Results\"),\n",
    "(\"-----------------------------\"),\n",
    "(\"Total Votes: \"+ str(len(NoOfRows))),\n",
    "(\"-----------------------------\"),\n",
    "(f\"{Candidate_List[0]}: {round(Per1,3)}% ({Votes0})\"),\n",
    "(f\"{Candidate_List[1]}: {round(Per2,3)}% ({Votes1})\"),\n",
    "(f\"{Candidate_List[2]}: {round(Per3,3)}% ({Votes2})\"),\n",
    "(f\"{Candidate_List[3]}: {round(Per1,3)}% ({Votes3})\"),\n",
    "(\"-----------------------------\"),\n",
    "(f\"Winner: {winner}\")]\n",
    "with open('readme.txt', 'w') as f:\n",
    "    for line in lines:\n",
    "        f.write(line)\n",
    "        f.write('\\n')"
   ]
  },
  {
   "cell_type": "code",
   "execution_count": null,
   "id": "d2b934c7",
   "metadata": {},
   "outputs": [],
   "source": []
  }
 ],
 "metadata": {
  "kernelspec": {
   "display_name": "Python 3",
   "language": "python",
   "name": "python3"
  },
  "language_info": {
   "codemirror_mode": {
    "name": "ipython",
    "version": 3
   },
   "file_extension": ".py",
   "mimetype": "text/x-python",
   "name": "python",
   "nbconvert_exporter": "python",
   "pygments_lexer": "ipython3",
   "version": "3.8.8"
  }
 },
 "nbformat": 4,
 "nbformat_minor": 5
}
